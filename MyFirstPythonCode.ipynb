{
    "cells": [
        {
            "cell_type": "markdown",
            "metadata": {
                "id": "685af48e-a28f-438d-92ce-89580863fd01"
            },
            "source": "# My Pranams to Guruji. I am writting my first python code"
        },
        {
            "cell_type": "code",
            "execution_count": 2,
            "metadata": {
                "id": "a6b0208f-4d8e-4e41-92cb-a9c9d2f9634b"
            },
            "outputs": [
                {
                    "name": "stderr",
                    "output_type": "stream",
                    "text": "/tmp/wsuser/ipykernel_136/2688807508.py:23: FutureWarning: Passing bytes to 'read_excel' is deprecated and will be removed in a future version. To read from a byte string, wrap it in a `BytesIO` object.\n  df_1 = pd.read_excel(body.read())\n"
                },
                {
                    "data": {
                        "text/html": "<div>\n<style scoped>\n    .dataframe tbody tr th:only-of-type {\n        vertical-align: middle;\n    }\n\n    .dataframe tbody tr th {\n        vertical-align: top;\n    }\n\n    .dataframe thead th {\n        text-align: right;\n    }\n</style>\n<table border=\"1\" class=\"dataframe\">\n  <thead>\n    <tr style=\"text-align: right;\">\n      <th></th>\n      <th>Tool</th>\n      <th>Object</th>\n      <th>Request Number</th>\n      <th>Overview</th>\n      <th>History</th>\n      <th>Overview Time Zone</th>\n      <th>History Time Zone</th>\n      <th>Unnamed: 7</th>\n      <th>Comments</th>\n    </tr>\n  </thead>\n  <tbody>\n    <tr>\n      <th>0</th>\n      <td>Old Tool</td>\n      <td>SSR</td>\n      <td>SSR-006173</td>\n      <td>18-06-2025 07:23:11</td>\n      <td>2025-06-18 00:00:00</td>\n      <td>UTC</td>\n      <td>date without timestamp</td>\n      <td>NaN</td>\n      <td>overview is in UTC and history without timestamp</td>\n    </tr>\n    <tr>\n      <th>1</th>\n      <td>New Tool</td>\n      <td>SSR</td>\n      <td>SSR-000270</td>\n      <td>2025-06-19 12:14:00</td>\n      <td>2025-06-19 12:14:00</td>\n      <td>User time zone (for me IST)</td>\n      <td>User time zone (for me IST)</td>\n      <td>NaN</td>\n      <td>date and time is in UTC in DB, on UI date and ...</td>\n    </tr>\n    <tr>\n      <th>2</th>\n      <td>Old Tool</td>\n      <td>Predef SSR</td>\n      <td>PR-00001005</td>\n      <td>2025-06-18 09:31:29</td>\n      <td>18-06-2025 07:31:29</td>\n      <td>CET</td>\n      <td>UTC</td>\n      <td>NaN</td>\n      <td>overview is in CET and history in UTC</td>\n    </tr>\n    <tr>\n      <th>3</th>\n      <td>New Tool</td>\n      <td>Predef SSR</td>\n      <td>PR-00000126</td>\n      <td>2025-06-19 12:00:00</td>\n      <td>2025-06-19 12:00:00</td>\n      <td>User time zone (for me IST)</td>\n      <td>User time zone (for me IST)</td>\n      <td>NaN</td>\n      <td>date and time is in UTC in DB, on UI date and ...</td>\n    </tr>\n    <tr>\n      <th>4</th>\n      <td>Old Tool</td>\n      <td>RFS</td>\n      <td>REQ-001662</td>\n      <td>2025-03-17 00:00:00</td>\n      <td>2025-06-19 08:00:23</td>\n      <td>date without timestamp</td>\n      <td>CET</td>\n      <td>NaN</td>\n      <td>overview is  without timestamp, history is in CET</td>\n    </tr>\n    <tr>\n      <th>5</th>\n      <td>New Tool</td>\n      <td>RFS</td>\n      <td>REQ-000236</td>\n      <td>2025-05-13 00:00:00</td>\n      <td>2025-06-19 12:21:00</td>\n      <td>date without timestamp</td>\n      <td>User time zone (for me IST)</td>\n      <td>NaN</td>\n      <td>overview is  without timestamp, history is in ...</td>\n    </tr>\n  </tbody>\n</table>\n</div>",
                        "text/plain": "       Tool      Object Request Number             Overview  \\\n0  Old Tool         SSR     SSR-006173  18-06-2025 07:23:11   \n1  New Tool         SSR     SSR-000270  2025-06-19 12:14:00   \n2  Old Tool  Predef SSR    PR-00001005  2025-06-18 09:31:29   \n3  New Tool  Predef SSR    PR-00000126  2025-06-19 12:00:00   \n4  Old Tool         RFS    REQ-001662\u00a0  2025-03-17 00:00:00   \n5  New Tool         RFS     REQ-000236  2025-05-13 00:00:00   \n\n               History           Overview Time Zone  \\\n0  2025-06-18 00:00:00                          UTC   \n1  2025-06-19 12:14:00  User time zone (for me IST)   \n2  18-06-2025 07:31:29                          CET   \n3  2025-06-19 12:00:00  User time zone (for me IST)   \n4  2025-06-19 08:00:23       date without timestamp   \n5  2025-06-19 12:21:00       date without timestamp   \n\n             History Time Zone  Unnamed: 7  \\\n0       date without timestamp         NaN   \n1  User time zone (for me IST)         NaN   \n2                          UTC         NaN   \n3  User time zone (for me IST)         NaN   \n4                          CET         NaN   \n5  User time zone (for me IST)         NaN   \n\n                                            Comments  \n0   overview is in UTC and history without timestamp  \n1  date and time is in UTC in DB, on UI date and ...  \n2              overview is in CET and history in UTC  \n3  date and time is in UTC in DB, on UI date and ...  \n4  overview is  without timestamp, history is in CET  \n5  overview is  without timestamp, history is in ...  "
                    },
                    "execution_count": 2,
                    "metadata": {},
                    "output_type": "execute_result"
                }
            ],
            "source": "# The code was removed by Watson Studio for sharing."
        },
        {
            "cell_type": "code",
            "execution_count": null,
            "metadata": {
                "id": "71b46f2a-80a3-49dc-8b20-790bb517d20f"
            },
            "outputs": [],
            "source": ""
        }
    ],
    "metadata": {
        "kernelspec": {
            "display_name": "Python 3.11",
            "language": "python",
            "name": "python3"
        },
        "language_info": {
            "codemirror_mode": {
                "name": "ipython",
                "version": 3
            },
            "file_extension": ".py",
            "mimetype": "text/x-python",
            "name": "python",
            "nbconvert_exporter": "python",
            "pygments_lexer": "ipython3",
            "version": "3.11.13"
        }
    },
    "nbformat": 4,
    "nbformat_minor": 4
}
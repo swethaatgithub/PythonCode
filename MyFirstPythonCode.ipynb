{
    "cells": [
        {
            "cell_type": "markdown",
            "metadata": {
                "id": "685af48e-a28f-438d-92ce-89580863fd01"
            },
            "source": "# My Pranams to Guruji. I am writting my first python code"
        },
        {
            "cell_type": "markdown",
            "metadata": {
                "id": "24f627ac-ca47-441b-bb3f-be7b7f5c6193"
            },
            "source": "# My Jupyter Notebook on IBM watsonx.ai"
        },
        {
            "cell_type": "markdown",
            "metadata": {
                "id": "1113536b-f26c-467e-9566-43dc7e8418a4"
            },
            "source": "### Swetha Gangadharan\n### IT Project Manager\n"
        },
        {
            "cell_type": "markdown",
            "metadata": {
                "id": "843faac4-283b-4ad1-94f0-10fadd561934"
            },
            "source": "##### I am interested in data science because that is the way technology is going, and the world is disrupted by data science,\n##### and I would like to be a part of it and create positive impact."
        },
        {
            "cell_type": "markdown",
            "metadata": {
                "id": "a3bdc4aa-617c-4bb9-8ca4-e018b7b7012a"
            },
            "source": "### Multiplication in Python."
        },
        {
            "cell_type": "code",
            "execution_count": 4,
            "metadata": {
                "id": "0bfc6979-e0ba-461f-99e5-7b0c18849463"
            },
            "outputs": [
                {
                    "name": "stdout",
                    "output_type": "stream",
                    "text": "20\n"
                }
            ],
            "source": "c = 4*5\nprint(c)"
        },
        {
            "cell_type": "markdown",
            "metadata": {
                "id": "4437b5cc-4b2b-4eed-8131-66647c3d892a"
            },
            "source": "# bulleted list, numbered list, tables, hyperlinks, images."
        },
        {
            "cell_type": "markdown",
            "metadata": {
                "id": "97e22afb-8556-4f9a-9fbc-e07bdcabd912"
            },
            "source": "* Python\n* Scale\n* Julia\n\n| Name  | age |\n|-------| ----- |\n| Swetha | 43|\n\n<a href=\"\">www.google.com</a>\n<br>\n<img src=\"https://www.python.org/static/img/python-logo.png\">Python\n"
        },
        {
            "cell_type": "code",
            "execution_count": null,
            "metadata": {
                "id": "b40bd4bf-c4eb-4d77-a5a9-8e0629a714cc"
            },
            "outputs": [],
            "source": ""
        }
    ],
    "metadata": {
        "kernelspec": {
            "display_name": "Python 3.11",
            "language": "python",
            "name": "python3"
        },
        "language_info": {
            "codemirror_mode": {
                "name": "ipython",
                "version": 3
            },
            "file_extension": ".py",
            "mimetype": "text/x-python",
            "name": "python",
            "nbconvert_exporter": "python",
            "pygments_lexer": "ipython3",
            "version": "3.11.13"
        }
    },
    "nbformat": 4,
    "nbformat_minor": 4
}